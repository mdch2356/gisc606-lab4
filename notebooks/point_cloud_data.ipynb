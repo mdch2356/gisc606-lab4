{
 "cells": [
  {
   "cell_type": "code",
   "execution_count": null,
   "metadata": {},
   "outputs": [],
   "source": [
    "#Summary\n",
    "\n",
    "    #The plas.io online point cloud viewer allows you to quickly view and explore lidar data point clouds.\n",
    "    #Each lidar data point will have an associated set of attributes. You can check the metadata to determine which attributes the dataset contains. NEON data, provided above, contain both classification and intensity values.\n",
    "    #Classification values represent the type of object that the light energy reflected off of. Classification values are often ground vs non ground. Some lidar data files might have buildings, water bodies and other natural and man made elements classified.\n",
    "    #LiDAR data often has an intensity value associated with it. This represents the amount of light energy that reflected off an object and returned to the sensor."
   ]
  }
 ],
 "metadata": {
  "language_info": {
   "name": "python"
  }
 },
 "nbformat": 4,
 "nbformat_minor": 2
}
